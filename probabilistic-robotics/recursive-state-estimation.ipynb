{
 "cells": [
  {
   "cell_type": "markdown",
   "id": "9136bb39",
   "metadata": {},
   "source": [
    "Bayes Filter\n",
    "\n",
    "Bayes Filter Algorithm\n",
    "\n",
    "Algorithm Bayes_filter(bel(x_{t-1}), u_t, z_t):\n"
   ]
  },
  {
   "cell_type": "code",
   "execution_count": null,
   "id": "3b5f8215",
   "metadata": {},
   "outputs": [],
   "source": [
    "# Bayes Filter Algorithm\n",
    "\n",
    "import numpy as np\n",
    "\n",
    "def bayes_filter(bel, u, z):\n",
    "    # Prediction step\n",
    "    bel = motion_model(bel, u)\n",
    "    # Update step\n",
    "    bel = measurement_model(bel, z)\n",
    "    return bel\n",
    "\n",
    "def motion_model(bel, u):\n",
    "    # Assuming a simple motion model where u is the control input\n",
    "    # For simplicity, we assume a uniform motion model\n",
    "    bel = np.roll(bel, u)  # Shift belief based on control input\n",
    "    return bel\n",
    "\n",
    "def measurement_model(bel, z):\n",
    "    # Assuming a simple measurement model where z is the measurement\n",
    "    # For simplicity, we assume a uniform measurement model\n",
    "    bel = bel * z  # Update belief based on measurement\n",
    "    bel /= np.sum(bel)  # Normalize belief\n",
    "    return bel\n",
    "\n"
   ]
  }
 ],
 "metadata": {
  "kernelspec": {
   "display_name": "base",
   "language": "python",
   "name": "python3"
  },
  "language_info": {
   "name": "python",
   "version": "3.12.7"
  }
 },
 "nbformat": 4,
 "nbformat_minor": 5
}
